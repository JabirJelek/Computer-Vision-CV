{
 "cells": [
  {
   "cell_type": "code",
   "execution_count": 4,
   "id": "2eee45a6",
   "metadata": {},
   "outputs": [],
   "source": [
    "save_dir = r\"D:\\SCMA\\3-APD\\fromAraya\\newAPDData\\labels\"\n",
    "images_source =  r\"D:\\SCMA\\3-APD\\fromAraya\\newAPDData\\frames-produksi\"\n",
    "batched_path = r\"D:\\SCMA\\3-APD\\fromAraya\\newAPDData\\batched\""
   ]
  },
  {
   "cell_type": "code",
   "execution_count": null,
   "id": "60a2111b",
   "metadata": {},
   "outputs": [],
   "source": [
    "import os\n",
    "import shutil\n",
    "\n",
    "# --- CONFIGURATION: Set your specific folder paths here ---\n",
    "text_files_path = save_dir\n",
    "image_files_path = images_source\n",
    "destination_path = batched_path\n",
    "\n",
    "# Define which text files and image formats to process\n",
    "text_extensions = ('.txt',)  # Add other text formats if needed\n",
    "image_extensions = ('.jpg', '.jpeg', '.png', '.JPG', '.JPEG', '.PNG')  # Case variations\n",
    "\n",
    "# --- SCRIPT STARTS HERE ---\n",
    "\n",
    "# Create destination directory if it doesn't exist\n",
    "os.makedirs(destination_path, exist_ok=True)\n",
    "\n",
    "# Get lists of files from both directories\n",
    "try:\n",
    "    text_files = os.listdir(text_files_path)\n",
    "    image_files = os.listdir(image_files_path)\n",
    "    print(f\"Found {len(text_files)} files in text directory, {len(image_files)} files in image directory.\")\n",
    "except FileNotFoundError as e:\n",
    "    print(f\"Error: {e}\")\n",
    "    exit()\n",
    "\n",
    "# Identify all text files (without their extension) to use for matching\n",
    "text_files_without_ext = {\n",
    "    os.path.splitext(file)[0] for file in text_files\n",
    "    if any(file.lower().endswith(ext.lower()) for ext in text_extensions)\n",
    "}\n",
    "print(f\"Found {len(text_files_without_ext)} text files with extensions {text_extensions}\")\n",
    "\n",
    "matched_count = 0\n",
    "moved_files = []\n",
    "\n",
    "# Find and move corresponding image files\n",
    "for text_base in text_files_without_ext:\n",
    "    for img_ext in image_extensions:\n",
    "        image_filename = text_base + img_ext\n",
    "        if image_filename in image_files:\n",
    "            source_image_path = os.path.join(image_files_path, image_filename)\n",
    "            destination_image_path = os.path.join(destination_path, image_filename)\n",
    "\n",
    "            # Move the file\n",
    "            shutil.move(source_image_path, destination_image_path)\n",
    "            print(f\"Moved: {image_filename}\")\n",
    "            matched_count += 1\n",
    "            moved_files.append(image_filename)\n",
    "            break  # Stop checking other extensions once we find a match\n",
    "    else:\n",
    "        print(f\"No matching image found for: {text_base}\")\n",
    "\n",
    "print(f\"\\nOperation complete! Successfully moved {matched_count} image files to '{destination_path}'.\")\n",
    "if moved_files:\n",
    "    print(f\"Files moved: {moved_files}\")"
   ]
  }
 ],
 "metadata": {
  "kernelspec": {
   "display_name": "onnx (3.12.1)",
   "language": "python",
   "name": "python3"
  },
  "language_info": {
   "codemirror_mode": {
    "name": "ipython",
    "version": 3
   },
   "file_extension": ".py",
   "mimetype": "text/x-python",
   "name": "python",
   "nbconvert_exporter": "python",
   "pygments_lexer": "ipython3",
   "version": "3.12.1"
  }
 },
 "nbformat": 4,
 "nbformat_minor": 5
}
