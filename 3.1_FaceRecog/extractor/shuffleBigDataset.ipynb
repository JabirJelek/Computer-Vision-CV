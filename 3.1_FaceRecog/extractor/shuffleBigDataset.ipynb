{
 "cells": [
  {
   "cell_type": "code",
   "execution_count": 1,
   "id": "8740e762",
   "metadata": {},
   "outputs": [],
   "source": [
    "import os\n",
    "import random"
   ]
  },
  {
   "cell_type": "code",
   "execution_count": null,
   "id": "5eb43ac1",
   "metadata": {},
   "outputs": [],
   "source": [
    "def split_files_into_folders(source_folder_path, file_extension=None):\n",
    "    \"\"\"\n",
    "    Randomly split files from source folder into 10 separate folders\n",
    "\n",
    "    Args:\n",
    "        source_folder_path: Path to the folder containing files to split\n",
    "        file_extension: Filter by file extension (e.g., '.jpg', '.txt')\n",
    "    \"\"\"\n",
    "\n",
    "    # Get all files from source folder, filtering by extension if provided\n",
    "    all_files = [f for f in os.listdir(source_folder_path)\n",
    "                 if os.path.isfile(os.path.join(source_folder_path, f))]\n",
    "\n",
    "    if file_extension:\n",
    "        all_files = [f for f in all_files if f.lower().endswith(file_extension.lower())]\n",
    "\n",
    "    if not all_files:\n",
    "        print(f\"No files found in {source_folder_path} with extension {file_extension}\")\n",
    "        return\n",
    "\n",
    "    # Shuffle the files randomly\n",
    "    random.shuffle(all_files)\n",
    "\n",
    "    # Calculate split sizes (approximately equal parts)\n",
    "    total_files = len(all_files)\n",
    "    base_size = total_files // 10\n",
    "    remainder = total_files % 10\n",
    "\n",
    "    split_sizes = [base_size + 1 if i < remainder else base_size for i in range(10)]\n",
    "\n",
    "    # Create destination folders\n",
    "    dest_folders = []\n",
    "    for i in range(10):\n",
    "        folder_name = f\"split_folder_{i+1}\"\n",
    "        folder_path = os.path.join(source_folder_path, folder_name)\n",
    "        os.makedirs(folder_path, exist_ok=True)\n",
    "        dest_folders.append(folder_path)\n",
    "        print(f\"Created folder: {folder_path}\")\n",
    "\n",
    "    # Distribute files into folders\n",
    "    start_index = 0\n",
    "    for i, folder_size in enumerate(split_sizes):\n",
    "        end_index = start_index + folder_size\n",
    "        folder_files = all_files[start_index:end_index]\n",
    "\n",
    "        print(f\"\\nFolder {i+1} will contain {len(folder_files)} files:\")\n",
    "\n",
    "        for file_name in folder_files:\n",
    "            source_path = os.path.join(source_folder_path, file_name)\n",
    "            dest_path = os.path.join(dest_folders[i], file_name)\n",
    "            os.rename(source_path, dest_path)\n",
    "            print(f\"  Moved: {file_name}\")\n",
    "\n",
    "        start_index = end_index\n",
    "\n",
    "    print(f\"\\n✅ Successfully split {total_files} files into 10 folders!\")\n",
    "    for i, folder_size in enumerate(split_sizes):\n",
    "        print(f\"   Folder {i+1}: {folder_size} files\")\n",
    "\n",
    "# Example usage\n",
    "source_path = r\"D:\\SCMA\\3-APD\\fromAraya\\newAPDData\\batched\"  # Replace with your folder path\n",
    "file_type = \".png\"  # Replace with your file type (e.g., .png, .txt, .csv)\n",
    "\n",
    "split_files_into_folders(source_path, file_type)"
   ]
  }
 ],
 "metadata": {
  "kernelspec": {
   "display_name": "onnx (3.12.1)",
   "language": "python",
   "name": "python3"
  },
  "language_info": {
   "codemirror_mode": {
    "name": "ipython",
    "version": 3
   },
   "file_extension": ".py",
   "mimetype": "text/x-python",
   "name": "python",
   "nbconvert_exporter": "python",
   "pygments_lexer": "ipython3",
   "version": "3.12.1"
  }
 },
 "nbformat": 4,
 "nbformat_minor": 5
}
